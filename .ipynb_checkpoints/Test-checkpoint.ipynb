{
 "cells": [
  {
   "cell_type": "code",
   "execution_count": 1,
   "metadata": {},
   "outputs": [],
   "source": [
    "import pandas as pd\n",
    "import numpy as np\n",
    "import os"
   ]
  },
  {
   "cell_type": "code",
   "execution_count": 13,
   "metadata": {},
   "outputs": [],
   "source": [
    "df = pd.read_csv(os.getcwd()+\"/Data/test_quant.csv\")"
   ]
  },
  {
   "cell_type": "code",
   "execution_count": 14,
   "metadata": {},
   "outputs": [
    {
     "data": {
      "text/html": [
       "<div>\n",
       "<style scoped>\n",
       "    .dataframe tbody tr th:only-of-type {\n",
       "        vertical-align: middle;\n",
       "    }\n",
       "\n",
       "    .dataframe tbody tr th {\n",
       "        vertical-align: top;\n",
       "    }\n",
       "\n",
       "    .dataframe thead th {\n",
       "        text-align: right;\n",
       "    }\n",
       "</style>\n",
       "<table border=\"1\" class=\"dataframe\">\n",
       "  <thead>\n",
       "    <tr style=\"text-align: right;\">\n",
       "      <th></th>\n",
       "      <th>timestamp</th>\n",
       "      <th>exchange</th>\n",
       "      <th>symbol</th>\n",
       "      <th>timestamp.1</th>\n",
       "      <th>local_timestamp</th>\n",
       "      <th>asks[0].price</th>\n",
       "      <th>asks[1].price</th>\n",
       "      <th>asks[2].price</th>\n",
       "      <th>asks[3].price</th>\n",
       "      <th>asks[4].price</th>\n",
       "      <th>...</th>\n",
       "      <th>bids[0].amount</th>\n",
       "      <th>bids[1].amount</th>\n",
       "      <th>bids[2].amount</th>\n",
       "      <th>bids[3].amount</th>\n",
       "      <th>bids[4].amount</th>\n",
       "      <th>bids[5].amount</th>\n",
       "      <th>bids[6].amount</th>\n",
       "      <th>bids[7].amount</th>\n",
       "      <th>bids[8].amount</th>\n",
       "      <th>bids[9].amount</th>\n",
       "    </tr>\n",
       "  </thead>\n",
       "  <tbody>\n",
       "    <tr>\n",
       "      <td>0</td>\n",
       "      <td>2021-04-02 09:00:00.400</td>\n",
       "      <td>deribit</td>\n",
       "      <td>BTC-16APR21</td>\n",
       "      <td>1617354000424000</td>\n",
       "      <td>1617354000430645</td>\n",
       "      <td>60892.5</td>\n",
       "      <td>60893.0</td>\n",
       "      <td>60897.0</td>\n",
       "      <td>60897.5</td>\n",
       "      <td>60904.0</td>\n",
       "      <td>...</td>\n",
       "      <td>213250.0</td>\n",
       "      <td>2820.0</td>\n",
       "      <td>1810.0</td>\n",
       "      <td>2690.0</td>\n",
       "      <td>319870.0</td>\n",
       "      <td>5270.0</td>\n",
       "      <td>2290.0</td>\n",
       "      <td>379100.0</td>\n",
       "      <td>100000.0</td>\n",
       "      <td>1830.0</td>\n",
       "    </tr>\n",
       "    <tr>\n",
       "      <td>1</td>\n",
       "      <td>2021-04-02 09:00:00.500</td>\n",
       "      <td>deribit</td>\n",
       "      <td>BTC-16APR21</td>\n",
       "      <td>1617354000595000</td>\n",
       "      <td>1617354000606282</td>\n",
       "      <td>60892.5</td>\n",
       "      <td>60893.0</td>\n",
       "      <td>60897.5</td>\n",
       "      <td>60904.0</td>\n",
       "      <td>60913.5</td>\n",
       "      <td>...</td>\n",
       "      <td>213250.0</td>\n",
       "      <td>2820.0</td>\n",
       "      <td>1810.0</td>\n",
       "      <td>2690.0</td>\n",
       "      <td>319870.0</td>\n",
       "      <td>5270.0</td>\n",
       "      <td>2290.0</td>\n",
       "      <td>379100.0</td>\n",
       "      <td>100000.0</td>\n",
       "      <td>1830.0</td>\n",
       "    </tr>\n",
       "    <tr>\n",
       "      <td>2</td>\n",
       "      <td>2021-04-02 09:00:00.700</td>\n",
       "      <td>deribit</td>\n",
       "      <td>BTC-16APR21</td>\n",
       "      <td>1617354000788000</td>\n",
       "      <td>1617354000794703</td>\n",
       "      <td>60892.5</td>\n",
       "      <td>60893.0</td>\n",
       "      <td>60897.5</td>\n",
       "      <td>60904.0</td>\n",
       "      <td>60913.5</td>\n",
       "      <td>...</td>\n",
       "      <td>213250.0</td>\n",
       "      <td>2820.0</td>\n",
       "      <td>1810.0</td>\n",
       "      <td>2690.0</td>\n",
       "      <td>319870.0</td>\n",
       "      <td>5270.0</td>\n",
       "      <td>2290.0</td>\n",
       "      <td>379100.0</td>\n",
       "      <td>100000.0</td>\n",
       "      <td>1830.0</td>\n",
       "    </tr>\n",
       "    <tr>\n",
       "      <td>3</td>\n",
       "      <td>2021-04-02 09:00:00.800</td>\n",
       "      <td>deribit</td>\n",
       "      <td>BTC-16APR21</td>\n",
       "      <td>1617354000892000</td>\n",
       "      <td>1617354000905202</td>\n",
       "      <td>60892.5</td>\n",
       "      <td>60893.0</td>\n",
       "      <td>60897.5</td>\n",
       "      <td>60904.0</td>\n",
       "      <td>60913.5</td>\n",
       "      <td>...</td>\n",
       "      <td>213250.0</td>\n",
       "      <td>2820.0</td>\n",
       "      <td>1810.0</td>\n",
       "      <td>2690.0</td>\n",
       "      <td>319870.0</td>\n",
       "      <td>5270.0</td>\n",
       "      <td>2290.0</td>\n",
       "      <td>379100.0</td>\n",
       "      <td>100000.0</td>\n",
       "      <td>1830.0</td>\n",
       "    </tr>\n",
       "    <tr>\n",
       "      <td>4</td>\n",
       "      <td>2021-04-02 09:00:00.900</td>\n",
       "      <td>deribit</td>\n",
       "      <td>BTC-16APR21</td>\n",
       "      <td>1617354000917000</td>\n",
       "      <td>1617354000926413</td>\n",
       "      <td>60892.5</td>\n",
       "      <td>60897.5</td>\n",
       "      <td>60904.0</td>\n",
       "      <td>60913.5</td>\n",
       "      <td>60918.5</td>\n",
       "      <td>...</td>\n",
       "      <td>213250.0</td>\n",
       "      <td>2820.0</td>\n",
       "      <td>1810.0</td>\n",
       "      <td>2690.0</td>\n",
       "      <td>319870.0</td>\n",
       "      <td>5270.0</td>\n",
       "      <td>2290.0</td>\n",
       "      <td>379100.0</td>\n",
       "      <td>100000.0</td>\n",
       "      <td>1830.0</td>\n",
       "    </tr>\n",
       "  </tbody>\n",
       "</table>\n",
       "<p>5 rows × 45 columns</p>\n",
       "</div>"
      ],
      "text/plain": [
       "                 timestamp exchange       symbol       timestamp.1  \\\n",
       "0  2021-04-02 09:00:00.400  deribit  BTC-16APR21  1617354000424000   \n",
       "1  2021-04-02 09:00:00.500  deribit  BTC-16APR21  1617354000595000   \n",
       "2  2021-04-02 09:00:00.700  deribit  BTC-16APR21  1617354000788000   \n",
       "3  2021-04-02 09:00:00.800  deribit  BTC-16APR21  1617354000892000   \n",
       "4  2021-04-02 09:00:00.900  deribit  BTC-16APR21  1617354000917000   \n",
       "\n",
       "    local_timestamp  asks[0].price  asks[1].price  asks[2].price  \\\n",
       "0  1617354000430645        60892.5        60893.0        60897.0   \n",
       "1  1617354000606282        60892.5        60893.0        60897.5   \n",
       "2  1617354000794703        60892.5        60893.0        60897.5   \n",
       "3  1617354000905202        60892.5        60893.0        60897.5   \n",
       "4  1617354000926413        60892.5        60897.5        60904.0   \n",
       "\n",
       "   asks[3].price  asks[4].price  ...  bids[0].amount  bids[1].amount  \\\n",
       "0        60897.5        60904.0  ...        213250.0          2820.0   \n",
       "1        60904.0        60913.5  ...        213250.0          2820.0   \n",
       "2        60904.0        60913.5  ...        213250.0          2820.0   \n",
       "3        60904.0        60913.5  ...        213250.0          2820.0   \n",
       "4        60913.5        60918.5  ...        213250.0          2820.0   \n",
       "\n",
       "   bids[2].amount  bids[3].amount  bids[4].amount  bids[5].amount  \\\n",
       "0          1810.0          2690.0        319870.0          5270.0   \n",
       "1          1810.0          2690.0        319870.0          5270.0   \n",
       "2          1810.0          2690.0        319870.0          5270.0   \n",
       "3          1810.0          2690.0        319870.0          5270.0   \n",
       "4          1810.0          2690.0        319870.0          5270.0   \n",
       "\n",
       "   bids[6].amount  bids[7].amount  bids[8].amount  bids[9].amount  \n",
       "0          2290.0        379100.0        100000.0          1830.0  \n",
       "1          2290.0        379100.0        100000.0          1830.0  \n",
       "2          2290.0        379100.0        100000.0          1830.0  \n",
       "3          2290.0        379100.0        100000.0          1830.0  \n",
       "4          2290.0        379100.0        100000.0          1830.0  \n",
       "\n",
       "[5 rows x 45 columns]"
      ]
     },
     "execution_count": 14,
     "metadata": {},
     "output_type": "execute_result"
    }
   ],
   "source": [
    "df.head()"
   ]
  },
  {
   "cell_type": "code",
   "execution_count": 15,
   "metadata": {},
   "outputs": [],
   "source": [
    "df['datetime'] = pd.to_datetime(df['timestamp.1'], unit='us')"
   ]
  },
  {
   "cell_type": "code",
   "execution_count": null,
   "metadata": {},
   "outputs": [],
   "source": [
    "def execute_dummy_market_ords(df, size=1000, side='buy'):\n",
    "    \"\"\" \n",
    "    This function executes market orders with predefined size and side(buy,sell) with the tick series \n",
    "    \"\"\"\n",
    "    if size <= 0:\n",
    "        raise ValueError(\"size must be positive\")\n",
    "    if side != 'sell' and side != 'buy':\n",
    "        raise ValueError(\"side must be buy or sell\")\n",
    "    if side == 'buy':\n",
    "        # we need ask prices if buy\n",
    "        idx_prices = range(5, 15)\n",
    "        idx_amount = range(15, 25)\n",
    "    else:\n",
    "        idx_prices = range(25,35)\n",
    "        idx_amount = range(35, 45)\n",
    "    id = 1\n",
    "    mint = -1\n",
    "    res = {'id':[], 'time':[], 'amount':[], 'price':[], 'side':[], 'slippage':[], 'volume':[]}\n",
    "    for i in range(df.shape[0]):\n",
    "        if df.datetime[i].minute != mint:\n",
    "            mint = df.datetime[i].minute\n",
    "            res['id'].append(id)\n",
    "            id = id + 1\n",
    "            res['time'].append(df['datetime'].iloc[i])\n",
    "            res['side'].append(side)\n",
    "            v = 0\n",
    "            amount = np.zeros(10)\n",
    "            for j in range(len(idx_amount)):\n",
    "                v = v + df.iloc[i, idx_amount[j]]\n",
    "                if v > size:\n",
    "                    amount[j] = df.iloc[i, idx_amount[j]] - v + size \n",
    "                    break;\n",
    "                else:\n",
    "                    amount[j] = df.iloc[i, idx_amount[j]]\n",
    "            res['amount'].append(sum(df.iloc[i, idx_prices].values*amount))\n",
    "            res['volume'].append(sum(amount))\n",
    "            res['price'].append(sum(df.iloc[i, idx_prices].values*amount)/sum(amount))\n",
    "            res['slippage'].append(df.iloc[i, idx_prices[0]])\n",
    "    res = pd.DataFrame.from_dict(res)\n",
    "    if side == 'buy':\n",
    "        res['slippage'] = res['price'] - res['slippage']\n",
    "    else:\n",
    "        res['slippage'] = res['slippage'] - res['price']\n",
    "    return res"
   ]
  },
  {
   "cell_type": "markdown",
   "metadata": {},
   "source": [
    "## Test 1: size = 1000 (side = 'buy')"
   ]
  },
  {
   "cell_type": "code",
   "execution_count": 64,
   "metadata": {},
   "outputs": [],
   "source": [
    "df_out = execute_dummy_market_ords(df,size=1000,side='buy')"
   ]
  },
  {
   "cell_type": "code",
   "execution_count": 67,
   "metadata": {},
   "outputs": [],
   "source": [
    "df_out.to_csv('orders_size_1000.csv', index=False)"
   ]
  },
  {
   "cell_type": "markdown",
   "metadata": {},
   "source": [
    "## Test 2: size = 10000 (side = 'buy')"
   ]
  },
  {
   "cell_type": "code",
   "execution_count": 69,
   "metadata": {},
   "outputs": [],
   "source": [
    "df_out = execute_dummy_market_ords(df,size=10000,side='buy')\n",
    "df_out.to_csv('orders_size_10000.csv', index=False)"
   ]
  },
  {
   "cell_type": "markdown",
   "metadata": {},
   "source": [
    "## Test 3: size = 1000000 (side = 'buy')"
   ]
  },
  {
   "cell_type": "code",
   "execution_count": 71,
   "metadata": {},
   "outputs": [],
   "source": [
    "df_out = execute_dummy_market_ords(df,size=1000000,side='buy')\n",
    "df_out.to_csv('orders_size_1000000.csv', index=False)"
   ]
  },
  {
   "cell_type": "code",
   "execution_count": 72,
   "metadata": {},
   "outputs": [
    {
     "data": {
      "text/html": [
       "<div>\n",
       "<style scoped>\n",
       "    .dataframe tbody tr th:only-of-type {\n",
       "        vertical-align: middle;\n",
       "    }\n",
       "\n",
       "    .dataframe tbody tr th {\n",
       "        vertical-align: top;\n",
       "    }\n",
       "\n",
       "    .dataframe thead th {\n",
       "        text-align: right;\n",
       "    }\n",
       "</style>\n",
       "<table border=\"1\" class=\"dataframe\">\n",
       "  <thead>\n",
       "    <tr style=\"text-align: right;\">\n",
       "      <th></th>\n",
       "      <th>id</th>\n",
       "      <th>time</th>\n",
       "      <th>amount</th>\n",
       "      <th>price</th>\n",
       "      <th>side</th>\n",
       "      <th>slippage</th>\n",
       "      <th>volume</th>\n",
       "    </tr>\n",
       "  </thead>\n",
       "  <tbody>\n",
       "    <tr>\n",
       "      <td>0</td>\n",
       "      <td>1</td>\n",
       "      <td>2021-04-02 09:00:00.424</td>\n",
       "      <td>3.784633e+10</td>\n",
       "      <td>60926.512661</td>\n",
       "      <td>buy</td>\n",
       "      <td>34.012661</td>\n",
       "      <td>621180.0</td>\n",
       "    </tr>\n",
       "    <tr>\n",
       "      <td>1</td>\n",
       "      <td>2</td>\n",
       "      <td>2021-04-02 09:01:00.299</td>\n",
       "      <td>4.600628e+10</td>\n",
       "      <td>60911.268377</td>\n",
       "      <td>buy</td>\n",
       "      <td>53.768377</td>\n",
       "      <td>755300.0</td>\n",
       "    </tr>\n",
       "    <tr>\n",
       "      <td>2</td>\n",
       "      <td>3</td>\n",
       "      <td>2021-04-02 09:02:00.318</td>\n",
       "      <td>3.014926e+10</td>\n",
       "      <td>60882.988853</td>\n",
       "      <td>buy</td>\n",
       "      <td>27.988853</td>\n",
       "      <td>495200.0</td>\n",
       "    </tr>\n",
       "    <tr>\n",
       "      <td>3</td>\n",
       "      <td>4</td>\n",
       "      <td>2021-04-02 09:03:00.146</td>\n",
       "      <td>3.186667e+10</td>\n",
       "      <td>60883.965027</td>\n",
       "      <td>buy</td>\n",
       "      <td>37.965027</td>\n",
       "      <td>523400.0</td>\n",
       "    </tr>\n",
       "    <tr>\n",
       "      <td>4</td>\n",
       "      <td>5</td>\n",
       "      <td>2021-04-02 09:04:00.253</td>\n",
       "      <td>3.655662e+10</td>\n",
       "      <td>60859.739499</td>\n",
       "      <td>buy</td>\n",
       "      <td>37.739499</td>\n",
       "      <td>600670.0</td>\n",
       "    </tr>\n",
       "  </tbody>\n",
       "</table>\n",
       "</div>"
      ],
      "text/plain": [
       "   id                    time        amount         price side   slippage  \\\n",
       "0   1 2021-04-02 09:00:00.424  3.784633e+10  60926.512661  buy  34.012661   \n",
       "1   2 2021-04-02 09:01:00.299  4.600628e+10  60911.268377  buy  53.768377   \n",
       "2   3 2021-04-02 09:02:00.318  3.014926e+10  60882.988853  buy  27.988853   \n",
       "3   4 2021-04-02 09:03:00.146  3.186667e+10  60883.965027  buy  37.965027   \n",
       "4   5 2021-04-02 09:04:00.253  3.655662e+10  60859.739499  buy  37.739499   \n",
       "\n",
       "     volume  \n",
       "0  621180.0  \n",
       "1  755300.0  \n",
       "2  495200.0  \n",
       "3  523400.0  \n",
       "4  600670.0  "
      ]
     },
     "execution_count": 72,
     "metadata": {},
     "output_type": "execute_result"
    }
   ],
   "source": [
    "df_out.head()"
   ]
  },
  {
   "cell_type": "code",
   "execution_count": 89,
   "metadata": {},
   "outputs": [],
   "source": [
    "df['diff_ask1'] = df.iloc[:,30] - df.iloc[:,29]"
   ]
  },
  {
   "cell_type": "code",
   "execution_count": 90,
   "metadata": {},
   "outputs": [
    {
     "data": {
      "text/plain": [
       "<matplotlib.axes._subplots.AxesSubplot at 0x119608c50>"
      ]
     },
     "execution_count": 90,
     "metadata": {},
     "output_type": "execute_result"
    },
    {
     "data": {
      "image/png": "[encoded data removed]",
      "text/plain": [
       "<Figure size 432x288 with 1 Axes>"
      ]
     },
     "metadata": {
      "needs_background": "light"
     },
     "output_type": "display_data"
    }
   ],
   "source": [
    "df['diff_ask1'].hist()"
   ]
  },
  {
   "cell_type": "code",
   "execution_count": null,
   "metadata": {},
   "outputs": [],
   "source": []
  }
 ],
 "metadata": {
  "kernelspec": {
   "display_name": "Python 3",
   "language": "python",
   "name": "python3"
  },
  "language_info": {
   "codemirror_mode": {
    "name": "ipython",
    "version": 3
   },
   "file_extension": ".py",
   "mimetype": "text/x-python",
   "name": "python",
   "nbconvert_exporter": "python",
   "pygments_lexer": "ipython3",
   "version": "3.7.4"
  }
 },
 "nbformat": 4,
 "nbformat_minor": 4
}
